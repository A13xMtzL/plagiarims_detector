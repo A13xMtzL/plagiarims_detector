{
 "cells": [
  {
   "cell_type": "code",
   "execution_count": 34,
   "metadata": {},
   "outputs": [],
   "source": [
    "from preprocess import preprocessing\n",
    "import os\n",
    "import pandas as pd\n",
    "import copy\n"
   ]
  },
  {
   "cell_type": "code",
   "execution_count": 35,
   "metadata": {},
   "outputs": [],
   "source": [
    "import re\n",
    "\n",
    "def get_java_text_without_comments(filepath):\n",
    "    # Open the .java file and read its contents\n",
    "    with open(filepath, 'r') as file:\n",
    "        java_text = file.read()\n",
    "\n",
    "    # Remove all single line and multi-line comments\n",
    "    java_text = re.sub(r'//.*?\\n|/\\*.*?\\*/', '', java_text, flags=re.S)\n",
    "\n",
    "    # Now java_text contains the text of the .java file without comments\n",
    "    return java_text.replace('\\n', ' ')"
   ]
  },
  {
   "cell_type": "code",
   "execution_count": 36,
   "metadata": {},
   "outputs": [
    {
     "name": "stdout",
     "output_type": "stream",
     "text": [
      "0  de  7\n",
      "1  de  7\n",
      "2  de  7\n",
      "3  de  7\n",
      "4  de  7\n",
      "5  de  7\n",
      "6  de  7\n",
      "0  de  35  (suspicious)  T01N1.java\n",
      "1  de  35  (suspicious)  T01N2.java\n",
      "2  de  35  (suspicious)  T01N3.java\n",
      "3  de  35  (suspicious)  T01P1.java\n",
      "4  de  35  (suspicious)  T01P2.java\n",
      "5  de  35  (suspicious)  T02N1.java\n",
      "6  de  35  (suspicious)  T02N2.java\n",
      "7  de  35  (suspicious)  T02N3.java\n",
      "8  de  35  (suspicious)  T02P1.java\n",
      "9  de  35  (suspicious)  T02P2.java\n",
      "10  de  35  (suspicious)  T03N1.java\n",
      "11  de  35  (suspicious)  T03N2.java\n",
      "12  de  35  (suspicious)  T03N3.java\n",
      "13  de  35  (suspicious)  T03P1.java\n",
      "14  de  35  (suspicious)  T03P2.java\n",
      "15  de  35  (suspicious)  T04N1.java\n",
      "16  de  35  (suspicious)  T04N2.java\n",
      "17  de  35  (suspicious)  T04N3.java\n",
      "18  de  35  (suspicious)  T04P1.java\n",
      "19  de  35  (suspicious)  T04P2.java\n",
      "20  de  35  (suspicious)  T05N1.java\n",
      "21  de  35  (suspicious)  T05N2.java\n",
      "22  de  35  (suspicious)  T05N3.java\n",
      "23  de  35  (suspicious)  T05P1.java\n",
      "24  de  35  (suspicious)  T05P2.java\n",
      "25  de  35  (suspicious)  T06N1.java\n",
      "26  de  35  (suspicious)  T06N2.java\n",
      "27  de  35  (suspicious)  T06N3.java\n",
      "28  de  35  (suspicious)  T06P1.java\n",
      "29  de  35  (suspicious)  T06P2.java\n",
      "30  de  35  (suspicious)  T07N1.java\n",
      "31  de  35  (suspicious)  T07N2.java\n",
      "32  de  35  (suspicious)  T07N3.java\n",
      "33  de  35  (suspicious)  T07P1.java\n",
      "34  de  35  (suspicious)  T07P2.java\n"
     ]
    }
   ],
   "source": [
    "\n",
    "# Rutas de los archivos\n",
    "file_path_originals = \"original_files\"\n",
    "file_path_suspicious = \"suspicious_files\"\n",
    "\n",
    "# Preproceso de textos originales\n",
    "original_texts = [file for file in os.listdir(file_path_originals) if os.path.isfile(os.path.join(file_path_originals, file))]\n",
    "processed_original_texts = []\n",
    "i = 0\n",
    "for original_text in original_texts:\n",
    "    print(i, \" de \", len(original_texts))\n",
    "    i += 1\n",
    "    text = ' '.join(preprocessing(file_path_originals + \"/\" + original_text))\n",
    "    processed_original_texts.append(text)\n",
    "\n",
    "# Preproceso de textos sospechosos\n",
    "suspicious_texts = [file for file in os.listdir(file_path_suspicious) if os.path.isfile(os.path.join(file_path_suspicious, file))]\n",
    "processed_suspicious_texts = []\n",
    "j = 0\n",
    "for suspicious_text in suspicious_texts:\n",
    "    print(j, \" de \", len(suspicious_texts), \" (suspicious) \", suspicious_text)\n",
    "    j += 1\n",
    "    text = ' '.join(preprocessing(file_path_suspicious + \"/\" + suspicious_text))\n",
    "    processed_suspicious_texts.append(text)\n"
   ]
  },
  {
   "cell_type": "code",
   "execution_count": 37,
   "metadata": {},
   "outputs": [
    {
     "data": {
      "text/html": [
       "<div>\n",
       "<style scoped>\n",
       "    .dataframe tbody tr th:only-of-type {\n",
       "        vertical-align: middle;\n",
       "    }\n",
       "\n",
       "    .dataframe tbody tr th {\n",
       "        vertical-align: top;\n",
       "    }\n",
       "\n",
       "    .dataframe thead th {\n",
       "        text-align: right;\n",
       "    }\n",
       "</style>\n",
       "<table border=\"1\" class=\"dataframe\">\n",
       "  <thead>\n",
       "    <tr style=\"text-align: right;\">\n",
       "      <th></th>\n",
       "      <th>suspicious</th>\n",
       "      <th>isPlagiarism</th>\n",
       "      <th>original</th>\n",
       "    </tr>\n",
       "  </thead>\n",
       "  <tbody>\n",
       "    <tr>\n",
       "      <th>0</th>\n",
       "      <td>public class ID { public static void ID ( ID [...</td>\n",
       "      <td>0</td>\n",
       "      <td>public class ID { public static void ID ( ID [...</td>\n",
       "    </tr>\n",
       "    <tr>\n",
       "      <th>1</th>\n",
       "      <td>public class ID { public static void ID ( ID [...</td>\n",
       "      <td>0</td>\n",
       "      <td>public class ID { public static void ID ( ID [...</td>\n",
       "    </tr>\n",
       "    <tr>\n",
       "      <th>2</th>\n",
       "      <td>public class ID { public static void ID ( ID [...</td>\n",
       "      <td>0</td>\n",
       "      <td>public class ID { public static void ID ( ID [...</td>\n",
       "    </tr>\n",
       "    <tr>\n",
       "      <th>3</th>\n",
       "      <td>public class ID { public static void ID ( ID [...</td>\n",
       "      <td>1</td>\n",
       "      <td>public class ID { public static void ID ( ID [...</td>\n",
       "    </tr>\n",
       "    <tr>\n",
       "      <th>4</th>\n",
       "      <td>public class ID { public static void ID ( int ...</td>\n",
       "      <td>1</td>\n",
       "      <td>public class ID { public static void ID ( ID [...</td>\n",
       "    </tr>\n",
       "    <tr>\n",
       "      <th>5</th>\n",
       "      <td>import ID . ID . ID ; public class ID { public...</td>\n",
       "      <td>0</td>\n",
       "      <td>public class ID { public static void ID ( ID [...</td>\n",
       "    </tr>\n",
       "    <tr>\n",
       "      <th>6</th>\n",
       "      <td>import ID . ID . ID ; public class ID { public...</td>\n",
       "      <td>0</td>\n",
       "      <td>public class ID { public static void ID ( ID [...</td>\n",
       "    </tr>\n",
       "    <tr>\n",
       "      <th>7</th>\n",
       "      <td>import ID . ID . ID ; import ID . ID . ID ; pu...</td>\n",
       "      <td>0</td>\n",
       "      <td>public class ID { public static void ID ( ID [...</td>\n",
       "    </tr>\n",
       "    <tr>\n",
       "      <th>8</th>\n",
       "      <td>import ID . ID . ID ; public class ID { public...</td>\n",
       "      <td>1</td>\n",
       "      <td>public class ID { public static void ID ( ID [...</td>\n",
       "    </tr>\n",
       "    <tr>\n",
       "      <th>9</th>\n",
       "      <td>import ID . ID . ID ; public class ID { public...</td>\n",
       "      <td>1</td>\n",
       "      <td>public class ID { public static void ID ( ID [...</td>\n",
       "    </tr>\n",
       "    <tr>\n",
       "      <th>10</th>\n",
       "      <td>import ID . ID . ID ; public class ID { public...</td>\n",
       "      <td>0</td>\n",
       "      <td>public class ID { public static void ID ( ID [...</td>\n",
       "    </tr>\n",
       "    <tr>\n",
       "      <th>11</th>\n",
       "      <td>import ID . ID . ID ; public class ID { public...</td>\n",
       "      <td>0</td>\n",
       "      <td>public class ID { public static void ID ( ID [...</td>\n",
       "    </tr>\n",
       "    <tr>\n",
       "      <th>12</th>\n",
       "      <td>import ID . ID . ID ; public class ID { public...</td>\n",
       "      <td>0</td>\n",
       "      <td>public class ID { public static void ID ( ID [...</td>\n",
       "    </tr>\n",
       "    <tr>\n",
       "      <th>13</th>\n",
       "      <td>import ID . ID . ID ; public class ID { public...</td>\n",
       "      <td>1</td>\n",
       "      <td>public class ID { public static void ID ( ID [...</td>\n",
       "    </tr>\n",
       "    <tr>\n",
       "      <th>14</th>\n",
       "      <td>import ID . ID . ID ; public class ID { privat...</td>\n",
       "      <td>1</td>\n",
       "      <td>public class ID { public static void ID ( ID [...</td>\n",
       "    </tr>\n",
       "    <tr>\n",
       "      <th>15</th>\n",
       "      <td>public class ID { public static void ID ( ID [...</td>\n",
       "      <td>0</td>\n",
       "      <td>public class ID { public static void ID ( ID [...</td>\n",
       "    </tr>\n",
       "    <tr>\n",
       "      <th>16</th>\n",
       "      <td>import ID . ID . ID ; public class ID { public...</td>\n",
       "      <td>0</td>\n",
       "      <td>public class ID { public static void ID ( ID [...</td>\n",
       "    </tr>\n",
       "    <tr>\n",
       "      <th>17</th>\n",
       "      <td>public class ID { public static void ID ( ID [...</td>\n",
       "      <td>0</td>\n",
       "      <td>public class ID { public static void ID ( ID [...</td>\n",
       "    </tr>\n",
       "    <tr>\n",
       "      <th>18</th>\n",
       "      <td>public class ID { public static void ID ( ID [...</td>\n",
       "      <td>1</td>\n",
       "      <td>public class ID { public static void ID ( ID [...</td>\n",
       "    </tr>\n",
       "    <tr>\n",
       "      <th>19</th>\n",
       "      <td>import ID . ID . * ; class ID { static void ID...</td>\n",
       "      <td>1</td>\n",
       "      <td>public class ID { public static void ID ( ID [...</td>\n",
       "    </tr>\n",
       "    <tr>\n",
       "      <th>20</th>\n",
       "      <td>import ID . ID . ID ; public class ID { public...</td>\n",
       "      <td>0</td>\n",
       "      <td>public class ID { public static void ID ( ID [...</td>\n",
       "    </tr>\n",
       "    <tr>\n",
       "      <th>21</th>\n",
       "      <td>import ID . ID . ID ; public class ID { public...</td>\n",
       "      <td>0</td>\n",
       "      <td>public class ID { public static void ID ( ID [...</td>\n",
       "    </tr>\n",
       "    <tr>\n",
       "      <th>22</th>\n",
       "      <td>import ID . ID . ID ; public class ID { public...</td>\n",
       "      <td>0</td>\n",
       "      <td>public class ID { public static void ID ( ID [...</td>\n",
       "    </tr>\n",
       "    <tr>\n",
       "      <th>23</th>\n",
       "      <td>public class ID { public static void ID ( ID [...</td>\n",
       "      <td>1</td>\n",
       "      <td>public class ID { public static void ID ( ID [...</td>\n",
       "    </tr>\n",
       "    <tr>\n",
       "      <th>24</th>\n",
       "      <td>import ID . ID . ID ; public class ID { public...</td>\n",
       "      <td>1</td>\n",
       "      <td>public class ID { public static void ID ( ID [...</td>\n",
       "    </tr>\n",
       "    <tr>\n",
       "      <th>25</th>\n",
       "      <td>import ID . ID . ID ; public class ID { public...</td>\n",
       "      <td>0</td>\n",
       "      <td>public class ID { public static void ID ( ID [...</td>\n",
       "    </tr>\n",
       "    <tr>\n",
       "      <th>26</th>\n",
       "      <td>import ID . ID . ID ; public class ID { public...</td>\n",
       "      <td>0</td>\n",
       "      <td>public class ID { public static void ID ( ID [...</td>\n",
       "    </tr>\n",
       "    <tr>\n",
       "      <th>27</th>\n",
       "      <td>import ID . ID . ID ; public class ID { public...</td>\n",
       "      <td>0</td>\n",
       "      <td>public class ID { public static void ID ( ID [...</td>\n",
       "    </tr>\n",
       "    <tr>\n",
       "      <th>28</th>\n",
       "      <td>public class ID { public static void ID ( ID [...</td>\n",
       "      <td>1</td>\n",
       "      <td>public class ID { public static void ID ( ID [...</td>\n",
       "    </tr>\n",
       "    <tr>\n",
       "      <th>29</th>\n",
       "      <td>public class ID { public static void ID ( int ...</td>\n",
       "      <td>1</td>\n",
       "      <td>public class ID { public static void ID ( ID [...</td>\n",
       "    </tr>\n",
       "    <tr>\n",
       "      <th>30</th>\n",
       "      <td>import ID . ID . ID ; public class ID { public...</td>\n",
       "      <td>0</td>\n",
       "      <td>public class ID { public static void ID ( ID [...</td>\n",
       "    </tr>\n",
       "    <tr>\n",
       "      <th>31</th>\n",
       "      <td>import ID . ID . ID ; public class ID { public...</td>\n",
       "      <td>0</td>\n",
       "      <td>public class ID { public static void ID ( ID [...</td>\n",
       "    </tr>\n",
       "    <tr>\n",
       "      <th>32</th>\n",
       "      <td>import ID . ID . ID ; public class ID { public...</td>\n",
       "      <td>0</td>\n",
       "      <td>public class ID { public static void ID ( ID [...</td>\n",
       "    </tr>\n",
       "    <tr>\n",
       "      <th>33</th>\n",
       "      <td>import ID . ID . * ; public class ID { public ...</td>\n",
       "      <td>1</td>\n",
       "      <td>public class ID { public static void ID ( ID [...</td>\n",
       "    </tr>\n",
       "    <tr>\n",
       "      <th>34</th>\n",
       "      <td>import ID . ID . * ; public class ID { public ...</td>\n",
       "      <td>1</td>\n",
       "      <td>public class ID { public static void ID ( ID [...</td>\n",
       "    </tr>\n",
       "  </tbody>\n",
       "</table>\n",
       "</div>"
      ],
      "text/plain": [
       "                                           suspicious  isPlagiarism  \\\n",
       "0   public class ID { public static void ID ( ID [...             0   \n",
       "1   public class ID { public static void ID ( ID [...             0   \n",
       "2   public class ID { public static void ID ( ID [...             0   \n",
       "3   public class ID { public static void ID ( ID [...             1   \n",
       "4   public class ID { public static void ID ( int ...             1   \n",
       "5   import ID . ID . ID ; public class ID { public...             0   \n",
       "6   import ID . ID . ID ; public class ID { public...             0   \n",
       "7   import ID . ID . ID ; import ID . ID . ID ; pu...             0   \n",
       "8   import ID . ID . ID ; public class ID { public...             1   \n",
       "9   import ID . ID . ID ; public class ID { public...             1   \n",
       "10  import ID . ID . ID ; public class ID { public...             0   \n",
       "11  import ID . ID . ID ; public class ID { public...             0   \n",
       "12  import ID . ID . ID ; public class ID { public...             0   \n",
       "13  import ID . ID . ID ; public class ID { public...             1   \n",
       "14  import ID . ID . ID ; public class ID { privat...             1   \n",
       "15  public class ID { public static void ID ( ID [...             0   \n",
       "16  import ID . ID . ID ; public class ID { public...             0   \n",
       "17  public class ID { public static void ID ( ID [...             0   \n",
       "18  public class ID { public static void ID ( ID [...             1   \n",
       "19  import ID . ID . * ; class ID { static void ID...             1   \n",
       "20  import ID . ID . ID ; public class ID { public...             0   \n",
       "21  import ID . ID . ID ; public class ID { public...             0   \n",
       "22  import ID . ID . ID ; public class ID { public...             0   \n",
       "23  public class ID { public static void ID ( ID [...             1   \n",
       "24  import ID . ID . ID ; public class ID { public...             1   \n",
       "25  import ID . ID . ID ; public class ID { public...             0   \n",
       "26  import ID . ID . ID ; public class ID { public...             0   \n",
       "27  import ID . ID . ID ; public class ID { public...             0   \n",
       "28  public class ID { public static void ID ( ID [...             1   \n",
       "29  public class ID { public static void ID ( int ...             1   \n",
       "30  import ID . ID . ID ; public class ID { public...             0   \n",
       "31  import ID . ID . ID ; public class ID { public...             0   \n",
       "32  import ID . ID . ID ; public class ID { public...             0   \n",
       "33  import ID . ID . * ; public class ID { public ...             1   \n",
       "34  import ID . ID . * ; public class ID { public ...             1   \n",
       "\n",
       "                                             original  \n",
       "0   public class ID { public static void ID ( ID [...  \n",
       "1   public class ID { public static void ID ( ID [...  \n",
       "2   public class ID { public static void ID ( ID [...  \n",
       "3   public class ID { public static void ID ( ID [...  \n",
       "4   public class ID { public static void ID ( ID [...  \n",
       "5   public class ID { public static void ID ( ID [...  \n",
       "6   public class ID { public static void ID ( ID [...  \n",
       "7   public class ID { public static void ID ( ID [...  \n",
       "8   public class ID { public static void ID ( ID [...  \n",
       "9   public class ID { public static void ID ( ID [...  \n",
       "10  public class ID { public static void ID ( ID [...  \n",
       "11  public class ID { public static void ID ( ID [...  \n",
       "12  public class ID { public static void ID ( ID [...  \n",
       "13  public class ID { public static void ID ( ID [...  \n",
       "14  public class ID { public static void ID ( ID [...  \n",
       "15  public class ID { public static void ID ( ID [...  \n",
       "16  public class ID { public static void ID ( ID [...  \n",
       "17  public class ID { public static void ID ( ID [...  \n",
       "18  public class ID { public static void ID ( ID [...  \n",
       "19  public class ID { public static void ID ( ID [...  \n",
       "20  public class ID { public static void ID ( ID [...  \n",
       "21  public class ID { public static void ID ( ID [...  \n",
       "22  public class ID { public static void ID ( ID [...  \n",
       "23  public class ID { public static void ID ( ID [...  \n",
       "24  public class ID { public static void ID ( ID [...  \n",
       "25  public class ID { public static void ID ( ID [...  \n",
       "26  public class ID { public static void ID ( ID [...  \n",
       "27  public class ID { public static void ID ( ID [...  \n",
       "28  public class ID { public static void ID ( ID [...  \n",
       "29  public class ID { public static void ID ( ID [...  \n",
       "30  public class ID { public static void ID ( ID [...  \n",
       "31  public class ID { public static void ID ( ID [...  \n",
       "32  public class ID { public static void ID ( ID [...  \n",
       "33  public class ID { public static void ID ( ID [...  \n",
       "34  public class ID { public static void ID ( ID [...  "
      ]
     },
     "execution_count": 37,
     "metadata": {},
     "output_type": "execute_result"
    }
   ],
   "source": [
    "\n",
    "# Creación de dataframe\n",
    "df = pd.DataFrame({'suspicious': processed_suspicious_texts, 'isPlagiarism': [0,0,0,1,1,0,0,0,1,1,0,0,0,1,1,0,0,0,1,1,0,0,0,1,1,0,0,0,1,1,0,0,0,1,1]})\n",
    "#df = pd.DataFrame({'suspicious': processed_suspicious_texts, 'isPlagiarism': [0,0,0,1,1,1,0,1,0,0,0,0,0,0,1,1,1,1,0,0,0,0,0,0,1,1,0,0,0,0,0,0,0,1,0,1,1,1,0,0,0,0,0,0,0,1,0,0,0,0,1,0,0,0,0,0,0,0,1,0,0,0,0,1,0,1,0,0,0,0,0,0,1,0,0,0,0,1,0,0,1,1,0,0,0,0,1,0,0,0,0,0,0,0,0,0,0,0,0,1,0,0,0,0,1,0,1,1,0,1,0,0,0,0,0,0,1,0,0,0,0,0,0,0,0,0,1,0,1,1,0,0,0,0,1,1,0,0,0,0,1,0,1,0,0,0,0,0,0,0,0,0,0,0,1,1,0,1,0,0,0,1,0,1,0,0,1,0,1,0,0,0,0,1,0,1,0,0,1,0,1,0,1,0,1,0,0,0,1,1,0,0,0,0,0,1]})\n",
    "df['original'] = \" | \".join(processed_original_texts)\n",
    "df"
   ]
  },
  {
   "cell_type": "code",
   "execution_count": 38,
   "metadata": {},
   "outputs": [],
   "source": [
    "df.to_csv('data.csv', index=False)"
   ]
  },
  {
   "cell_type": "code",
   "execution_count": 39,
   "metadata": {},
   "outputs": [],
   "source": [
    "\n",
    "from sklearn.model_selection import train_test_split\n",
    "\n",
    "train_df_x, test_df_x, train_df_y, test_df_y  = train_test_split(df.drop('isPlagiarism', axis=1), df['isPlagiarism'], test_size=0.2, stratify=df['isPlagiarism'])\n",
    "train_df_x, val_df_x, train_df_y, val_df_y = train_test_split(train_df_x, train_df_y, test_size=0.2, stratify=train_df_y)\n"
   ]
  },
  {
   "cell_type": "code",
   "execution_count": 40,
   "metadata": {},
   "outputs": [
    {
     "name": "stdout",
     "output_type": "stream",
     "text": [
      "(22, 2)\n",
      "(7, 2)\n",
      "(6, 2)\n"
     ]
    }
   ],
   "source": [
    "print(train_df_x.shape)\n",
    "print(test_df_x.shape)\n",
    "print(val_df_x.shape)"
   ]
  },
  {
   "cell_type": "code",
   "execution_count": 41,
   "metadata": {},
   "outputs": [],
   "source": [
    "from tensorflow.keras.preprocessing.text import Tokenizer\n",
    "from tensorflow.keras.preprocessing.sequence import pad_sequences\n",
    "\n",
    "tokenizer = Tokenizer()\n",
    "tokenizer.fit_on_texts(df['original'] + \" | \" + df['suspicious'])\n",
    "train_sequences = tokenizer.texts_to_sequences(train_df_x['original'] + \" | \" + train_df_x['suspicious'])\n",
    "val_sequences = tokenizer.texts_to_sequences(val_df_x['original'] + \" | \" + val_df_x['suspicious'])\n",
    "test_sequences = tokenizer.texts_to_sequences(test_df_x['original'] + \" | \" + test_df_x['suspicious'])\n",
    "\n",
    "# Padding\n",
    "train_padded = pad_sequences(train_sequences, padding='post')\n",
    "val_padded = pad_sequences(val_sequences, padding='post')\n",
    "test_padded = pad_sequences(test_sequences, padding='post')"
   ]
  },
  {
   "cell_type": "code",
   "execution_count": 42,
   "metadata": {},
   "outputs": [],
   "source": [
    "import tensorflow as tf"
   ]
  },
  {
   "cell_type": "code",
   "execution_count": 43,
   "metadata": {},
   "outputs": [
    {
     "name": "stdout",
     "output_type": "stream",
     "text": [
      "Epoch 1/60\n"
     ]
    },
    {
     "name": "stdout",
     "output_type": "stream",
     "text": [
      "\u001b[1m1/1\u001b[0m \u001b[32m━━━━━━━━━━━━━━━━━━━━\u001b[0m\u001b[37m\u001b[0m \u001b[1m5s\u001b[0m 5s/step - accuracy: 0.4545 - loss: 0.6936 - val_accuracy: 0.6667 - val_loss: 0.6847\n",
      "Epoch 2/60\n",
      "\u001b[1m1/1\u001b[0m \u001b[32m━━━━━━━━━━━━━━━━━━━━\u001b[0m\u001b[37m\u001b[0m \u001b[1m0s\u001b[0m 298ms/step - accuracy: 0.5909 - loss: 0.6849 - val_accuracy: 0.6667 - val_loss: 0.6758\n",
      "Epoch 3/60\n",
      "\u001b[1m1/1\u001b[0m \u001b[32m━━━━━━━━━━━━━━━━━━━━\u001b[0m\u001b[37m\u001b[0m \u001b[1m0s\u001b[0m 315ms/step - accuracy: 0.5909 - loss: 0.6786 - val_accuracy: 0.6667 - val_loss: 0.6671\n",
      "Epoch 4/60\n",
      "\u001b[1m1/1\u001b[0m \u001b[32m━━━━━━━━━━━━━━━━━━━━\u001b[0m\u001b[37m\u001b[0m \u001b[1m0s\u001b[0m 298ms/step - accuracy: 0.5909 - loss: 0.6738 - val_accuracy: 0.6667 - val_loss: 0.6598\n",
      "Epoch 5/60\n",
      "\u001b[1m1/1\u001b[0m \u001b[32m━━━━━━━━━━━━━━━━━━━━\u001b[0m\u001b[37m\u001b[0m \u001b[1m0s\u001b[0m 292ms/step - accuracy: 0.5909 - loss: 0.6720 - val_accuracy: 0.6667 - val_loss: 0.6582\n",
      "Epoch 6/60\n",
      "\u001b[1m1/1\u001b[0m \u001b[32m━━━━━━━━━━━━━━━━━━━━\u001b[0m\u001b[37m\u001b[0m \u001b[1m0s\u001b[0m 324ms/step - accuracy: 0.5909 - loss: 0.6734 - val_accuracy: 0.6667 - val_loss: 0.6621\n",
      "Epoch 7/60\n",
      "\u001b[1m1/1\u001b[0m \u001b[32m━━━━━━━━━━━━━━━━━━━━\u001b[0m\u001b[37m\u001b[0m \u001b[1m0s\u001b[0m 266ms/step - accuracy: 0.5909 - loss: 0.6727 - val_accuracy: 0.6667 - val_loss: 0.6679\n",
      "Epoch 8/60\n",
      "\u001b[1m1/1\u001b[0m \u001b[32m━━━━━━━━━━━━━━━━━━━━\u001b[0m\u001b[37m\u001b[0m \u001b[1m0s\u001b[0m 273ms/step - accuracy: 0.5909 - loss: 0.6705 - val_accuracy: 0.5000 - val_loss: 0.6748\n",
      "Epoch 9/60\n",
      "\u001b[1m1/1\u001b[0m \u001b[32m━━━━━━━━━━━━━━━━━━━━\u001b[0m\u001b[37m\u001b[0m \u001b[1m0s\u001b[0m 284ms/step - accuracy: 0.6364 - loss: 0.6687 - val_accuracy: 0.5000 - val_loss: 0.6819\n",
      "Epoch 10/60\n",
      "\u001b[1m1/1\u001b[0m \u001b[32m━━━━━━━━━━━━━━━━━━━━\u001b[0m\u001b[37m\u001b[0m \u001b[1m0s\u001b[0m 292ms/step - accuracy: 0.6364 - loss: 0.6677 - val_accuracy: 0.5000 - val_loss: 0.6879\n",
      "Epoch 11/60\n",
      "\u001b[1m1/1\u001b[0m \u001b[32m━━━━━━━━━━━━━━━━━━━━\u001b[0m\u001b[37m\u001b[0m \u001b[1m0s\u001b[0m 290ms/step - accuracy: 0.6364 - loss: 0.6672 - val_accuracy: 0.5000 - val_loss: 0.6932\n",
      "Epoch 12/60\n",
      "\u001b[1m1/1\u001b[0m \u001b[32m━━━━━━━━━━━━━━━━━━━━\u001b[0m\u001b[37m\u001b[0m \u001b[1m0s\u001b[0m 273ms/step - accuracy: 0.6364 - loss: 0.6664 - val_accuracy: 0.5000 - val_loss: 0.6982\n",
      "Epoch 13/60\n",
      "\u001b[1m1/1\u001b[0m \u001b[32m━━━━━━━━━━━━━━━━━━━━\u001b[0m\u001b[37m\u001b[0m \u001b[1m0s\u001b[0m 278ms/step - accuracy: 0.6364 - loss: 0.6653 - val_accuracy: 0.5000 - val_loss: 0.7031\n",
      "Epoch 14/60\n",
      "\u001b[1m1/1\u001b[0m \u001b[32m━━━━━━━━━━━━━━━━━━━━\u001b[0m\u001b[37m\u001b[0m \u001b[1m0s\u001b[0m 311ms/step - accuracy: 0.6364 - loss: 0.6639 - val_accuracy: 0.5000 - val_loss: 0.7084\n",
      "Epoch 15/60\n",
      "\u001b[1m1/1\u001b[0m \u001b[32m━━━━━━━━━━━━━━━━━━━━\u001b[0m\u001b[37m\u001b[0m \u001b[1m0s\u001b[0m 297ms/step - accuracy: 0.6364 - loss: 0.6625 - val_accuracy: 0.5000 - val_loss: 0.7146\n",
      "Epoch 16/60\n",
      "\u001b[1m1/1\u001b[0m \u001b[32m━━━━━━━━━━━━━━━━━━━━\u001b[0m\u001b[37m\u001b[0m \u001b[1m0s\u001b[0m 279ms/step - accuracy: 0.6364 - loss: 0.6612 - val_accuracy: 0.5000 - val_loss: 0.7218\n",
      "Epoch 17/60\n",
      "\u001b[1m1/1\u001b[0m \u001b[32m━━━━━━━━━━━━━━━━━━━━\u001b[0m\u001b[37m\u001b[0m \u001b[1m0s\u001b[0m 307ms/step - accuracy: 0.6364 - loss: 0.6598 - val_accuracy: 0.5000 - val_loss: 0.7294\n",
      "Epoch 18/60\n",
      "\u001b[1m1/1\u001b[0m \u001b[32m━━━━━━━━━━━━━━━━━━━━\u001b[0m\u001b[37m\u001b[0m \u001b[1m0s\u001b[0m 281ms/step - accuracy: 0.6364 - loss: 0.6581 - val_accuracy: 0.5000 - val_loss: 0.7371\n",
      "Epoch 19/60\n",
      "\u001b[1m1/1\u001b[0m \u001b[32m━━━━━━━━━━━━━━━━━━━━\u001b[0m\u001b[37m\u001b[0m \u001b[1m0s\u001b[0m 303ms/step - accuracy: 0.6364 - loss: 0.6561 - val_accuracy: 0.5000 - val_loss: 0.7461\n",
      "Epoch 20/60\n",
      "\u001b[1m1/1\u001b[0m \u001b[32m━━━━━━━━━━━━━━━━━━━━\u001b[0m\u001b[37m\u001b[0m \u001b[1m0s\u001b[0m 284ms/step - accuracy: 0.6364 - loss: 0.6540 - val_accuracy: 0.5000 - val_loss: 0.7573\n",
      "Epoch 21/60\n",
      "\u001b[1m1/1\u001b[0m \u001b[32m━━━━━━━━━━━━━━━━━━━━\u001b[0m\u001b[37m\u001b[0m \u001b[1m0s\u001b[0m 280ms/step - accuracy: 0.6364 - loss: 0.6518 - val_accuracy: 0.5000 - val_loss: 0.7728\n",
      "Epoch 22/60\n",
      "\u001b[1m1/1\u001b[0m \u001b[32m━━━━━━━━━━━━━━━━━━━━\u001b[0m\u001b[37m\u001b[0m \u001b[1m0s\u001b[0m 287ms/step - accuracy: 0.6364 - loss: 0.6496 - val_accuracy: 0.5000 - val_loss: 0.7960\n",
      "Epoch 23/60\n",
      "\u001b[1m1/1\u001b[0m \u001b[32m━━━━━━━━━━━━━━━━━━━━\u001b[0m\u001b[37m\u001b[0m \u001b[1m0s\u001b[0m 300ms/step - accuracy: 0.6364 - loss: 0.6472 - val_accuracy: 0.5000 - val_loss: 0.8283\n",
      "Epoch 24/60\n",
      "\u001b[1m1/1\u001b[0m \u001b[32m━━━━━━━━━━━━━━━━━━━━\u001b[0m\u001b[37m\u001b[0m \u001b[1m0s\u001b[0m 307ms/step - accuracy: 0.6364 - loss: 0.6446 - val_accuracy: 0.5000 - val_loss: 0.8700\n",
      "Epoch 25/60\n",
      "\u001b[1m1/1\u001b[0m \u001b[32m━━━━━━━━━━━━━━━━━━━━\u001b[0m\u001b[37m\u001b[0m \u001b[1m0s\u001b[0m 283ms/step - accuracy: 0.6364 - loss: 0.6420 - val_accuracy: 0.5000 - val_loss: 0.9167\n",
      "Epoch 26/60\n",
      "\u001b[1m1/1\u001b[0m \u001b[32m━━━━━━━━━━━━━━━━━━━━\u001b[0m\u001b[37m\u001b[0m \u001b[1m0s\u001b[0m 293ms/step - accuracy: 0.6364 - loss: 0.6403 - val_accuracy: 0.5000 - val_loss: 0.9501\n",
      "Epoch 27/60\n",
      "\u001b[1m1/1\u001b[0m \u001b[32m━━━━━━━━━━━━━━━━━━━━\u001b[0m\u001b[37m\u001b[0m \u001b[1m0s\u001b[0m 280ms/step - accuracy: 0.6364 - loss: 0.6384 - val_accuracy: 0.5000 - val_loss: 0.9636\n",
      "Epoch 28/60\n",
      "\u001b[1m1/1\u001b[0m \u001b[32m━━━━━━━━━━━━━━━━━━━━\u001b[0m\u001b[37m\u001b[0m \u001b[1m0s\u001b[0m 276ms/step - accuracy: 0.6364 - loss: 0.6362 - val_accuracy: 0.5000 - val_loss: 0.9751\n",
      "Epoch 29/60\n",
      "\u001b[1m1/1\u001b[0m \u001b[32m━━━━━━━━━━━━━━━━━━━━\u001b[0m\u001b[37m\u001b[0m \u001b[1m0s\u001b[0m 306ms/step - accuracy: 0.6364 - loss: 0.6346 - val_accuracy: 0.5000 - val_loss: 1.0025\n",
      "Epoch 30/60\n",
      "\u001b[1m1/1\u001b[0m \u001b[32m━━━━━━━━━━━━━━━━━━━━\u001b[0m\u001b[37m\u001b[0m \u001b[1m0s\u001b[0m 284ms/step - accuracy: 0.6364 - loss: 0.6325 - val_accuracy: 0.5000 - val_loss: 1.0434\n",
      "Epoch 31/60\n",
      "\u001b[1m1/1\u001b[0m \u001b[32m━━━━━━━━━━━━━━━━━━━━\u001b[0m\u001b[37m\u001b[0m \u001b[1m0s\u001b[0m 289ms/step - accuracy: 0.6364 - loss: 0.6302 - val_accuracy: 0.5000 - val_loss: 1.0853\n",
      "Epoch 32/60\n",
      "\u001b[1m1/1\u001b[0m \u001b[32m━━━━━━━━━━━━━━━━━━━━\u001b[0m\u001b[37m\u001b[0m \u001b[1m0s\u001b[0m 287ms/step - accuracy: 0.6364 - loss: 0.6281 - val_accuracy: 0.6667 - val_loss: 1.0989\n",
      "Epoch 33/60\n",
      "\u001b[1m1/1\u001b[0m \u001b[32m━━━━━━━━━━━━━━━━━━━━\u001b[0m\u001b[37m\u001b[0m \u001b[1m0s\u001b[0m 280ms/step - accuracy: 0.6818 - loss: 0.6253 - val_accuracy: 0.6667 - val_loss: 1.0820\n",
      "Epoch 34/60\n",
      "\u001b[1m1/1\u001b[0m \u001b[32m━━━━━━━━━━━━━━━━━━━━\u001b[0m\u001b[37m\u001b[0m \u001b[1m0s\u001b[0m 277ms/step - accuracy: 0.6364 - loss: 0.6209 - val_accuracy: 0.6667 - val_loss: 1.0479\n",
      "Epoch 35/60\n",
      "\u001b[1m1/1\u001b[0m \u001b[32m━━━━━━━━━━━━━━━━━━━━\u001b[0m\u001b[37m\u001b[0m \u001b[1m0s\u001b[0m 271ms/step - accuracy: 0.6364 - loss: 0.6125 - val_accuracy: 0.6667 - val_loss: 0.9734\n",
      "Epoch 36/60\n",
      "\u001b[1m1/1\u001b[0m \u001b[32m━━━━━━━━━━━━━━━━━━━━\u001b[0m\u001b[37m\u001b[0m \u001b[1m0s\u001b[0m 283ms/step - accuracy: 0.6818 - loss: 0.5941 - val_accuracy: 0.6667 - val_loss: 0.8543\n",
      "Epoch 37/60\n",
      "\u001b[1m1/1\u001b[0m \u001b[32m━━━━━━━━━━━━━━━━━━━━\u001b[0m\u001b[37m\u001b[0m \u001b[1m0s\u001b[0m 300ms/step - accuracy: 0.7273 - loss: 0.5754 - val_accuracy: 0.6667 - val_loss: 0.7676\n",
      "Epoch 38/60\n",
      "\u001b[1m1/1\u001b[0m \u001b[32m━━━━━━━━━━━━━━━━━━━━\u001b[0m\u001b[37m\u001b[0m \u001b[1m0s\u001b[0m 296ms/step - accuracy: 0.5909 - loss: 0.6243 - val_accuracy: 0.5000 - val_loss: 1.0387\n",
      "Epoch 39/60\n",
      "\u001b[1m1/1\u001b[0m \u001b[32m━━━━━━━━━━━━━━━━━━━━\u001b[0m\u001b[37m\u001b[0m \u001b[1m0s\u001b[0m 278ms/step - accuracy: 0.7273 - loss: 0.5905 - val_accuracy: 0.5000 - val_loss: 1.7144\n",
      "Epoch 40/60\n",
      "\u001b[1m1/1\u001b[0m \u001b[32m━━━━━━━━━━━━━━━━━━━━\u001b[0m\u001b[37m\u001b[0m \u001b[1m0s\u001b[0m 302ms/step - accuracy: 0.6364 - loss: 0.7923 - val_accuracy: 0.5000 - val_loss: 1.0762\n",
      "Epoch 41/60\n",
      "\u001b[1m1/1\u001b[0m \u001b[32m━━━━━━━━━━━━━━━━━━━━\u001b[0m\u001b[37m\u001b[0m \u001b[1m0s\u001b[0m 288ms/step - accuracy: 0.7273 - loss: 0.5700 - val_accuracy: 0.6667 - val_loss: 0.9569\n",
      "Epoch 42/60\n",
      "\u001b[1m1/1\u001b[0m \u001b[32m━━━━━━━━━━━━━━━━━━━━\u001b[0m\u001b[37m\u001b[0m \u001b[1m0s\u001b[0m 279ms/step - accuracy: 0.7273 - loss: 0.5654 - val_accuracy: 0.6667 - val_loss: 0.9523\n",
      "Epoch 43/60\n",
      "\u001b[1m1/1\u001b[0m \u001b[32m━━━━━━━━━━━━━━━━━━━━\u001b[0m\u001b[37m\u001b[0m \u001b[1m0s\u001b[0m 288ms/step - accuracy: 0.6818 - loss: 0.5815 - val_accuracy: 0.6667 - val_loss: 0.9683\n",
      "Epoch 44/60\n",
      "\u001b[1m1/1\u001b[0m \u001b[32m━━━━━━━━━━━━━━━━━━━━\u001b[0m\u001b[37m\u001b[0m \u001b[1m0s\u001b[0m 274ms/step - accuracy: 0.6364 - loss: 0.6109 - val_accuracy: 0.6667 - val_loss: 0.9942\n",
      "Epoch 45/60\n",
      "\u001b[1m1/1\u001b[0m \u001b[32m━━━━━━━━━━━━━━━━━━━━\u001b[0m\u001b[37m\u001b[0m \u001b[1m0s\u001b[0m 291ms/step - accuracy: 0.6364 - loss: 0.6083 - val_accuracy: 0.6667 - val_loss: 1.0256\n",
      "Epoch 46/60\n",
      "\u001b[1m1/1\u001b[0m \u001b[32m━━━━━━━━━━━━━━━━━━━━\u001b[0m\u001b[37m\u001b[0m \u001b[1m0s\u001b[0m 277ms/step - accuracy: 0.6818 - loss: 0.5978 - val_accuracy: 0.6667 - val_loss: 1.0558\n",
      "Epoch 47/60\n",
      "\u001b[1m1/1\u001b[0m \u001b[32m━━━━━━━━━━━━━━━━━━━━\u001b[0m\u001b[37m\u001b[0m \u001b[1m0s\u001b[0m 280ms/step - accuracy: 0.7273 - loss: 0.5961 - val_accuracy: 0.6667 - val_loss: 1.0799\n",
      "Epoch 48/60\n",
      "\u001b[1m1/1\u001b[0m \u001b[32m━━━━━━━━━━━━━━━━━━━━\u001b[0m\u001b[37m\u001b[0m \u001b[1m0s\u001b[0m 285ms/step - accuracy: 0.7273 - loss: 0.5985 - val_accuracy: 0.6667 - val_loss: 1.0955\n",
      "Epoch 49/60\n",
      "\u001b[1m1/1\u001b[0m \u001b[32m━━━━━━━━━━━━━━━━━━━━\u001b[0m\u001b[37m\u001b[0m \u001b[1m0s\u001b[0m 316ms/step - accuracy: 0.7273 - loss: 0.6004 - val_accuracy: 0.6667 - val_loss: 1.1012\n",
      "Epoch 50/60\n",
      "\u001b[1m1/1\u001b[0m \u001b[32m━━━━━━━━━━━━━━━━━━━━\u001b[0m\u001b[37m\u001b[0m \u001b[1m0s\u001b[0m 290ms/step - accuracy: 0.7273 - loss: 0.5999 - val_accuracy: 0.6667 - val_loss: 1.0954\n",
      "Epoch 51/60\n",
      "\u001b[1m1/1\u001b[0m \u001b[32m━━━━━━━━━━━━━━━━━━━━\u001b[0m\u001b[37m\u001b[0m \u001b[1m0s\u001b[0m 284ms/step - accuracy: 0.7273 - loss: 0.5957 - val_accuracy: 0.6667 - val_loss: 1.0778\n",
      "Epoch 52/60\n",
      "\u001b[1m1/1\u001b[0m \u001b[32m━━━━━━━━━━━━━━━━━━━━\u001b[0m\u001b[37m\u001b[0m \u001b[1m0s\u001b[0m 286ms/step - accuracy: 0.7273 - loss: 0.5871 - val_accuracy: 0.6667 - val_loss: 1.0505\n",
      "Epoch 53/60\n",
      "\u001b[1m1/1\u001b[0m \u001b[32m━━━━━━━━━━━━━━━━━━━━\u001b[0m\u001b[37m\u001b[0m \u001b[1m0s\u001b[0m 306ms/step - accuracy: 0.7273 - loss: 0.5748 - val_accuracy: 0.6667 - val_loss: 1.0187\n",
      "Epoch 54/60\n",
      "\u001b[1m1/1\u001b[0m \u001b[32m━━━━━━━━━━━━━━━━━━━━\u001b[0m\u001b[37m\u001b[0m \u001b[1m0s\u001b[0m 323ms/step - accuracy: 0.7273 - loss: 0.5608 - val_accuracy: 0.6667 - val_loss: 0.9870\n",
      "Epoch 55/60\n",
      "\u001b[1m1/1\u001b[0m \u001b[32m━━━━━━━━━━━━━━━━━━━━\u001b[0m\u001b[37m\u001b[0m \u001b[1m0s\u001b[0m 274ms/step - accuracy: 0.7727 - loss: 0.5518 - val_accuracy: 0.6667 - val_loss: 0.9610\n",
      "Epoch 56/60\n",
      "\u001b[1m1/1\u001b[0m \u001b[32m━━━━━━━━━━━━━━━━━━━━\u001b[0m\u001b[37m\u001b[0m \u001b[1m0s\u001b[0m 284ms/step - accuracy: 0.7273 - loss: 0.5455 - val_accuracy: 0.6667 - val_loss: 0.9408\n",
      "Epoch 57/60\n",
      "\u001b[1m1/1\u001b[0m \u001b[32m━━━━━━━━━━━━━━━━━━━━\u001b[0m\u001b[37m\u001b[0m \u001b[1m0s\u001b[0m 298ms/step - accuracy: 0.7273 - loss: 0.5286 - val_accuracy: 0.6667 - val_loss: 0.9169\n",
      "Epoch 58/60\n",
      "\u001b[1m1/1\u001b[0m \u001b[32m━━━━━━━━━━━━━━━━━━━━\u001b[0m\u001b[37m\u001b[0m \u001b[1m0s\u001b[0m 286ms/step - accuracy: 0.7273 - loss: 0.5219 - val_accuracy: 0.6667 - val_loss: 0.8745\n",
      "Epoch 59/60\n",
      "\u001b[1m1/1\u001b[0m \u001b[32m━━━━━━━━━━━━━━━━━━━━\u001b[0m\u001b[37m\u001b[0m \u001b[1m0s\u001b[0m 279ms/step - accuracy: 0.7273 - loss: 0.5136 - val_accuracy: 0.6667 - val_loss: 0.8116\n",
      "Epoch 60/60\n",
      "\u001b[1m1/1\u001b[0m \u001b[32m━━━━━━━━━━━━━━━━━━━━\u001b[0m\u001b[37m\u001b[0m \u001b[1m0s\u001b[0m 281ms/step - accuracy: 0.8182 - loss: 0.4913 - val_accuracy: 0.6667 - val_loss: 0.7390\n"
     ]
    }
   ],
   "source": [
    "import matplotlib.pyplot as plt\n",
    "\n",
    "from tensorflow.keras.models import Sequential\n",
    "from tensorflow.keras.layers import Embedding, LSTM, Dense, Bidirectional\n",
    "\n",
    "units = 128\n",
    "# Creación del modelo\n",
    "model = Sequential()\n",
    "model.add(Embedding(len(tokenizer.word_index)+1, units))\n",
    "model.add(Bidirectional(LSTM(units)))\n",
    "model.add(Dense(units, activation='relu'))\n",
    "model.add(Dense(1, activation='sigmoid'))\n",
    "\n",
    "model.compile(loss='binary_crossentropy', optimizer='adam', metrics=['accuracy'])\n",
    "history = model.fit(train_padded, train_df_y, epochs=60, validation_data=(val_padded, val_df_y), verbose=1)"
   ]
  },
  {
   "cell_type": "code",
   "execution_count": 44,
   "metadata": {},
   "outputs": [
    {
     "data": {
      "image/png": "[encoded data removed]",
      "text/plain": [
       "<Figure size 640x480 with 1 Axes>"
      ]
     },
     "metadata": {},
     "output_type": "display_data"
    },
    {
     "data": {
      "image/png": "[encoded data removed]",
      "text/plain": [
       "<Figure size 640x480 with 1 Axes>"
      ]
     },
     "metadata": {},
     "output_type": "display_data"
    }
   ],
   "source": [
    "plt.plot(history.history['accuracy'])\n",
    "plt.plot(history.history['val_accuracy'])\n",
    "plt.title('model accuracy')\n",
    "plt.ylabel('accuracy')\n",
    "plt.xlabel('epoch')\n",
    "plt.legend(['train', 'val'], loc='upper left')\n",
    "plt.show()\n",
    "plt.plot(history.history['loss'])\n",
    "plt.plot(history.history['val_loss'])\n",
    "plt.title('model loss')\n",
    "plt.ylabel('loss')\n",
    "plt.xlabel('epoch')\n",
    "plt.legend(['train', 'val'], loc='upper left')\n",
    "plt.show()"
   ]
  },
  {
   "cell_type": "code",
   "execution_count": 45,
   "metadata": {},
   "outputs": [
    {
     "data": {
      "text/html": [
       "<pre style=\"white-space:pre;overflow-x:auto;line-height:normal;font-family:Menlo,'DejaVu Sans Mono',consolas,'Courier New',monospace\"><span style=\"font-weight: bold\">Model: \"sequential_2\"</span>\n",
       "</pre>\n"
      ],
      "text/plain": [
       "\u001b[1mModel: \"sequential_2\"\u001b[0m\n"
      ]
     },
     "metadata": {},
     "output_type": "display_data"
    },
    {
     "data": {
      "text/html": [
       "<pre style=\"white-space:pre;overflow-x:auto;line-height:normal;font-family:Menlo,'DejaVu Sans Mono',consolas,'Courier New',monospace\">┏━━━━━━━━━━━━━━━━━━━━━━━━━━━━━━━━━┳━━━━━━━━━━━━━━━━━━━━━━━━┳━━━━━━━━━━━━━━━┓\n",
       "┃<span style=\"font-weight: bold\"> Layer (type)                    </span>┃<span style=\"font-weight: bold\"> Output Shape           </span>┃<span style=\"font-weight: bold\">       Param # </span>┃\n",
       "┡━━━━━━━━━━━━━━━━━━━━━━━━━━━━━━━━━╇━━━━━━━━━━━━━━━━━━━━━━━━╇━━━━━━━━━━━━━━━┩\n",
       "│ embedding_2 (<span style=\"color: #0087ff; text-decoration-color: #0087ff\">Embedding</span>)         │ (<span style=\"color: #00d7ff; text-decoration-color: #00d7ff\">None</span>, <span style=\"color: #00af00; text-decoration-color: #00af00\">476</span>, <span style=\"color: #00af00; text-decoration-color: #00af00\">128</span>)       │         <span style=\"color: #00af00; text-decoration-color: #00af00\">2,432</span> │\n",
       "├─────────────────────────────────┼────────────────────────┼───────────────┤\n",
       "│ bidirectional_2 (<span style=\"color: #0087ff; text-decoration-color: #0087ff\">Bidirectional</span>) │ (<span style=\"color: #00d7ff; text-decoration-color: #00d7ff\">None</span>, <span style=\"color: #00af00; text-decoration-color: #00af00\">256</span>)            │       <span style=\"color: #00af00; text-decoration-color: #00af00\">263,168</span> │\n",
       "├─────────────────────────────────┼────────────────────────┼───────────────┤\n",
       "│ dense_4 (<span style=\"color: #0087ff; text-decoration-color: #0087ff\">Dense</span>)                 │ (<span style=\"color: #00d7ff; text-decoration-color: #00d7ff\">None</span>, <span style=\"color: #00af00; text-decoration-color: #00af00\">128</span>)            │        <span style=\"color: #00af00; text-decoration-color: #00af00\">32,896</span> │\n",
       "├─────────────────────────────────┼────────────────────────┼───────────────┤\n",
       "│ dense_5 (<span style=\"color: #0087ff; text-decoration-color: #0087ff\">Dense</span>)                 │ (<span style=\"color: #00d7ff; text-decoration-color: #00d7ff\">None</span>, <span style=\"color: #00af00; text-decoration-color: #00af00\">1</span>)              │           <span style=\"color: #00af00; text-decoration-color: #00af00\">129</span> │\n",
       "└─────────────────────────────────┴────────────────────────┴───────────────┘\n",
       "</pre>\n"
      ],
      "text/plain": [
       "┏━━━━━━━━━━━━━━━━━━━━━━━━━━━━━━━━━┳━━━━━━━━━━━━━━━━━━━━━━━━┳━━━━━━━━━━━━━━━┓\n",
       "┃\u001b[1m \u001b[0m\u001b[1mLayer (type)                   \u001b[0m\u001b[1m \u001b[0m┃\u001b[1m \u001b[0m\u001b[1mOutput Shape          \u001b[0m\u001b[1m \u001b[0m┃\u001b[1m \u001b[0m\u001b[1m      Param #\u001b[0m\u001b[1m \u001b[0m┃\n",
       "┡━━━━━━━━━━━━━━━━━━━━━━━━━━━━━━━━━╇━━━━━━━━━━━━━━━━━━━━━━━━╇━━━━━━━━━━━━━━━┩\n",
       "│ embedding_2 (\u001b[38;5;33mEmbedding\u001b[0m)         │ (\u001b[38;5;45mNone\u001b[0m, \u001b[38;5;34m476\u001b[0m, \u001b[38;5;34m128\u001b[0m)       │         \u001b[38;5;34m2,432\u001b[0m │\n",
       "├─────────────────────────────────┼────────────────────────┼───────────────┤\n",
       "│ bidirectional_2 (\u001b[38;5;33mBidirectional\u001b[0m) │ (\u001b[38;5;45mNone\u001b[0m, \u001b[38;5;34m256\u001b[0m)            │       \u001b[38;5;34m263,168\u001b[0m │\n",
       "├─────────────────────────────────┼────────────────────────┼───────────────┤\n",
       "│ dense_4 (\u001b[38;5;33mDense\u001b[0m)                 │ (\u001b[38;5;45mNone\u001b[0m, \u001b[38;5;34m128\u001b[0m)            │        \u001b[38;5;34m32,896\u001b[0m │\n",
       "├─────────────────────────────────┼────────────────────────┼───────────────┤\n",
       "│ dense_5 (\u001b[38;5;33mDense\u001b[0m)                 │ (\u001b[38;5;45mNone\u001b[0m, \u001b[38;5;34m1\u001b[0m)              │           \u001b[38;5;34m129\u001b[0m │\n",
       "└─────────────────────────────────┴────────────────────────┴───────────────┘\n"
      ]
     },
     "metadata": {},
     "output_type": "display_data"
    },
    {
     "data": {
      "text/html": [
       "<pre style=\"white-space:pre;overflow-x:auto;line-height:normal;font-family:Menlo,'DejaVu Sans Mono',consolas,'Courier New',monospace\"><span style=\"font-weight: bold\"> Total params: </span><span style=\"color: #00af00; text-decoration-color: #00af00\">895,877</span> (3.42 MB)\n",
       "</pre>\n"
      ],
      "text/plain": [
       "\u001b[1m Total params: \u001b[0m\u001b[38;5;34m895,877\u001b[0m (3.42 MB)\n"
      ]
     },
     "metadata": {},
     "output_type": "display_data"
    },
    {
     "data": {
      "text/html": [
       "<pre style=\"white-space:pre;overflow-x:auto;line-height:normal;font-family:Menlo,'DejaVu Sans Mono',consolas,'Courier New',monospace\"><span style=\"font-weight: bold\"> Trainable params: </span><span style=\"color: #00af00; text-decoration-color: #00af00\">298,625</span> (1.14 MB)\n",
       "</pre>\n"
      ],
      "text/plain": [
       "\u001b[1m Trainable params: \u001b[0m\u001b[38;5;34m298,625\u001b[0m (1.14 MB)\n"
      ]
     },
     "metadata": {},
     "output_type": "display_data"
    },
    {
     "data": {
      "text/html": [
       "<pre style=\"white-space:pre;overflow-x:auto;line-height:normal;font-family:Menlo,'DejaVu Sans Mono',consolas,'Courier New',monospace\"><span style=\"font-weight: bold\"> Non-trainable params: </span><span style=\"color: #00af00; text-decoration-color: #00af00\">0</span> (0.00 B)\n",
       "</pre>\n"
      ],
      "text/plain": [
       "\u001b[1m Non-trainable params: \u001b[0m\u001b[38;5;34m0\u001b[0m (0.00 B)\n"
      ]
     },
     "metadata": {},
     "output_type": "display_data"
    },
    {
     "data": {
      "text/html": [
       "<pre style=\"white-space:pre;overflow-x:auto;line-height:normal;font-family:Menlo,'DejaVu Sans Mono',consolas,'Courier New',monospace\"><span style=\"font-weight: bold\"> Optimizer params: </span><span style=\"color: #00af00; text-decoration-color: #00af00\">597,252</span> (2.28 MB)\n",
       "</pre>\n"
      ],
      "text/plain": [
       "\u001b[1m Optimizer params: \u001b[0m\u001b[38;5;34m597,252\u001b[0m (2.28 MB)\n"
      ]
     },
     "metadata": {},
     "output_type": "display_data"
    }
   ],
   "source": [
    "model.summary()\n"
   ]
  },
  {
   "cell_type": "code",
   "execution_count": 46,
   "metadata": {},
   "outputs": [
    {
     "name": "stdout",
     "output_type": "stream",
     "text": [
      "\u001b[1m1/1\u001b[0m \u001b[32m━━━━━━━━━━━━━━━━━━━━\u001b[0m\u001b[37m\u001b[0m \u001b[1m0s\u001b[0m 445ms/step - accuracy: 0.7143 - loss: 1.0773\n"
     ]
    },
    {
     "data": {
      "text/plain": [
       "[1.0772900581359863, 0.7142857313156128]"
      ]
     },
     "execution_count": 46,
     "metadata": {},
     "output_type": "execute_result"
    }
   ],
   "source": [
    "\n",
    "# Evaluación del modelo\n",
    "model.evaluate(test_padded, test_df_y)\n"
   ]
  },
  {
   "cell_type": "code",
   "execution_count": 47,
   "metadata": {},
   "outputs": [
    {
     "name": "stdout",
     "output_type": "stream",
     "text": [
      "\u001b[1m1/1\u001b[0m \u001b[32m━━━━━━━━━━━━━━━━━━━━\u001b[0m\u001b[37m\u001b[0m \u001b[1m0s\u001b[0m 413ms/step\n"
     ]
    },
    {
     "data": {
      "text/plain": [
       "[1, 1, 0, 1, 0, 1, 1]"
      ]
     },
     "execution_count": 47,
     "metadata": {},
     "output_type": "execute_result"
    }
   ],
   "source": [
    "y_pred = model.predict(test_padded)\n",
    "y_pred = [1 if pred > 0.5 else 0 for pred in y_pred]\n",
    "y_pred"
   ]
  },
  {
   "cell_type": "code",
   "execution_count": 48,
   "metadata": {},
   "outputs": [
    {
     "data": {
      "text/plain": [
       "array([0, 0, 0, 1, 0, 1, 1], dtype=int64)"
      ]
     },
     "execution_count": 48,
     "metadata": {},
     "output_type": "execute_result"
    }
   ],
   "source": [
    "test_df_y.values"
   ]
  }
 ],
 "metadata": {
  "kernelspec": {
   "display_name": "M2",
   "language": "python",
   "name": "python3"
  },
  "language_info": {
   "codemirror_mode": {
    "name": "ipython",
    "version": 3
   },
   "file_extension": ".py",
   "mimetype": "text/x-python",
   "name": "python",
   "nbconvert_exporter": "python",
   "pygments_lexer": "ipython3",
   "version": "3.12.2"
  }
 },
 "nbformat": 4,
 "nbformat_minor": 2
}
